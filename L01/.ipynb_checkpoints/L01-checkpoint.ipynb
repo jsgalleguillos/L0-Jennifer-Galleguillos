{
 "cells": [
  {
   "cell_type": "markdown",
   "metadata": {},
   "source": [
    "# Mapa "
   ]
  },
  {
   "cell_type": "code",
   "execution_count": 14,
   "metadata": {
    "scrolled": false
   },
   "outputs": [
    {
     "data": {
      "image/png": "[encoded data removed]",
      "text/plain": [
       "<Figure size 432x288 with 1 Axes>"
      ]
     },
     "metadata": {
      "needs_background": "light"
     },
     "output_type": "display_data"
    }
   ],
   "source": [
    "import comodoro \n",
    "\n",
    "matriz = comodoro.generar_mapa(1) \n",
    "comodoro.imprimir_mapa (matriz,matriz)"
   ]
  },
  {
   "cell_type": "markdown",
   "metadata": {},
   "source": [
    "# Definición de clases"
   ]
  },
  {
   "cell_type": "code",
   "execution_count": 15,
   "metadata": {},
   "outputs": [],
   "source": [
    "class Celda:\n",
    "    def __init__(self, simbologia):\n",
    "        self.simbologia = simbologia\n",
    "\n",
    "class Edificacion(Celda):\n",
    "    def __init__(self, simbologia = None):\n",
    "        super().__init__(simbologia) \n",
    "    def generar_viajes(self):\n",
    "        pass\n",
    "\n",
    "class Hogar(Edificacion):\n",
    "     def __init__(self, simbologia = 0):\n",
    "        super().__init__(simbologia) \n",
    "\n",
    "class Oficina (Edificacion):\n",
    "    def __init__(self, simbologia = 1):\n",
    "        super().__init__(simbologia) \n",
    "\n",
    "class Vialidad (Celda):\n",
    "    def __init__(self, simbologia = None):\n",
    "        super().__init__(simbologia) \n",
    "    #def velocidad:\n",
    "        pass\n",
    "\n",
    "class Camino (Vialidad):\n",
    "    def __init__(self, simbologia = 2):\n",
    "        super().__init__(simbologia) \n",
    "\n",
    "class Calle (Vialidad):\n",
    "    def __init__(self, simbologia = 3):\n",
    "        super().__init__(simbologia) \n",
    "\n",
    "class Autopista (Vialidad):\n",
    "    def __init__(self, simbologia = 4):\n",
    "        super().__init__(simbologia) \n",
    "\n",
    "class CeldaVacia (Celda):\n",
    "    def __init__(self, simbologia = -1):\n",
    "        super().__init__(simbologia) \n",
    "                 \n",
    "class ModoTransporte:\n",
    "    def __init__(self, num_personas):\n",
    "            self.num_personas = num_personas\n",
    "    #def velocidad:\n",
    "    \n",
    "class Caminata(ModoTransporte):\n",
    "    def __init__(self, num_personas = 1):\n",
    "        super().__init__(num_personas)\n",
    "\n",
    "class Bicicleta (ModoTransporte):\n",
    "    def __init__(self, num_personas):\n",
    "        super().__init__(num_personas)\n",
    "\n",
    "class Bus(ModoTransporte):\n",
    "    def __init__(self, num_personas):\n",
    "        super().__init__(num_personas)\n",
    "\n",
    "class Auto(ModoTransporte):\n",
    "    def __init__(self, num_personas):\n",
    "        super().__init__(num_personas)\n",
    "        \n",
    "    \n",
    "    \n",
    "        \n"
   ]
  },
  {
   "cell_type": "markdown",
   "metadata": {},
   "source": [
    "Coeficiente de tipo celda:\n",
    "    Edificación (Generacion viaje):\n",
    "        (0) Hogar (Generacion viaje )\n",
    "        (1) Oficina (Generacion viaje )\n",
    "    Vialidad (función velocidad):\n",
    "        (2) camino (velocidad)\n",
    "        (3) calle (velocidad)\n",
    "        (4) autopista (velocidad)\n",
    "     (-1) Celda vacia\n",
    "    \n",
    "Modos de transporte (cantidad de personas ~ uniforme n° enteros)\n",
    "    Caminata (1 persona)\n",
    "    Bicicleta (1 o 2 personas)\n",
    "    Auto (1 a 5 personas)\n",
    "    Bus (1 a 40 personas)\n",
    "\n",
    "Generacion de viaje:\n",
    "    Elección de modo:\n",
    "        15% caminata\n",
    "        10 % bici\n",
    "        25 % auto\n",
    "        50% bus\n",
    "    Cantidad de personas viajando:\n",
    "        dist. uniforme\n",
    "    Ingresa a vialidad (desde hogar):\n",
    "        arriba, abajo, izquierda, derecha\n",
    "        \n",
    "Viajes:\n",
    "    Borde-borde \n",
    "    Hogar- borde "
   ]
  },
  {
   "cell_type": "code",
   "execution_count": null,
   "metadata": {},
   "outputs": [],
   "source": []
  },
  {
   "cell_type": "code",
   "execution_count": null,
   "metadata": {},
   "outputs": [],
   "source": []
  }
 ],
 "metadata": {
  "kernelspec": {
   "display_name": "Python 3",
   "language": "python",
   "name": "python3"
  },
  "language_info": {
   "codemirror_mode": {
    "name": "ipython",
    "version": 3
   },
   "file_extension": ".py",
   "mimetype": "text/x-python",
   "name": "python",
   "nbconvert_exporter": "python",
   "pygments_lexer": "ipython3",
   "version": "3.6.6"
  }
 },
 "nbformat": 4,
 "nbformat_minor": 2
}
